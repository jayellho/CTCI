{
 "cells": [
  {
   "cell_type": "code",
   "execution_count": 39,
   "id": "3b937d89",
   "metadata": {},
   "outputs": [],
   "source": [
    "def code_run(some_input):\n",
    "    final_array = []\n",
    "    left_arr_ptr = 0\n",
    "    right_arr_ptr = 0\n",
    "    \n",
    "    for i in range(len(some_input[0])+len(some_input[1])):\n",
    "        print(f\"left_arr_ptr={left_arr_ptr} | right_arr_ptr={right_arr_ptr}\")\n",
    "        if some_input[0][left_arr_ptr] < some_input[1][right_arr_ptr]:\n",
    "            if some_input[0][left_arr_ptr] not in final_array:\n",
    "                final_array.append(some_input[0][left_arr_ptr])\n",
    "            if left_arr_ptr < len(some_input[0])-1:\n",
    "                left_arr_ptr += 1\n",
    "        elif some_input[0][left_arr_ptr] >= some_input[1][right_arr_ptr]:\n",
    "            if some_input[1][right_arr_ptr] not in final_array:\n",
    "                final_array.append(some_input[1][right_arr_ptr])\n",
    "            if right_arr_ptr < len(some_input[1])-1:\n",
    "                right_arr_ptr += 1\n",
    "                   \n",
    "#     for i in range(len(some_input[1])):\n",
    "#         if some_input[0][left_arr_ptr] < some_input[1][right_arr_ptr]:\n",
    "#             if some_input[0][left_arr_ptr] not in final_array:\n",
    "#                 final_array.append(some_input[0][left_arr_ptr])\n",
    "#             if left_arr_ptr < len(some_input[0])-1:\n",
    "#                 left_arr_ptr += 1\n",
    "#         elif some_input[0][left_arr_ptr] >= some_input[1][right_arr_ptr]:\n",
    "#             if some_input[1][right_arr_ptr] not in final_array:\n",
    "#                 final_array.append(some_input[1][right_arr_ptr])\n",
    "#             if right_arr_ptr < len(some_input[1])-1:\n",
    "#                 right_arr_ptr += 1\n",
    "    return final_array"
   ]
  },
  {
   "cell_type": "code",
   "execution_count": 40,
   "id": "e30a9719",
   "metadata": {},
   "outputs": [
    {
     "name": "stdout",
     "output_type": "stream",
     "text": [
      "left_arr_ptr=0 | right_arr_ptr=0\n",
      "left_arr_ptr=1 | right_arr_ptr=0\n",
      "left_arr_ptr=2 | right_arr_ptr=0\n",
      "left_arr_ptr=2 | right_arr_ptr=0\n",
      "left_arr_ptr=2 | right_arr_ptr=0\n",
      "left_arr_ptr=2 | right_arr_ptr=0\n"
     ]
    },
    {
     "data": {
      "text/plain": [
       "[1, 2, 3]"
      ]
     },
     "execution_count": 40,
     "metadata": {},
     "output_type": "execute_result"
    }
   ],
   "source": [
    "code_run([[1,2,3],[4,5,6]])"
   ]
  }
 ],
 "metadata": {
  "kernelspec": {
   "display_name": "Python 3 (ipykernel)",
   "language": "python",
   "name": "python3"
  },
  "language_info": {
   "codemirror_mode": {
    "name": "ipython",
    "version": 3
   },
   "file_extension": ".py",
   "mimetype": "text/x-python",
   "name": "python",
   "nbconvert_exporter": "python",
   "pygments_lexer": "ipython3",
   "version": "3.9.13"
  }
 },
 "nbformat": 4,
 "nbformat_minor": 5
}
